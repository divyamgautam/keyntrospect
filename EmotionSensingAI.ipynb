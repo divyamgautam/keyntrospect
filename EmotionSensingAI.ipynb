{
  "nbformat": 4,
  "nbformat_minor": 0,
  "metadata": {
    "colab": {
      "name": "Untitled4.ipynb",
      "provenance": [],
      "authorship_tag": "ABX9TyNUH6LJ6vUl3ihcazKZ8+Mp"
    },
    "kernelspec": {
      "name": "python3",
      "display_name": "Python 3"
    },
    "language_info": {
      "name": "python"
    }
  },
  "cells": [
    {
      "cell_type": "markdown",
      "source": [
        "Importing Libraries:"
      ],
      "metadata": {
        "id": "-20s2mpy7xuB"
      }
    },
    {
      "cell_type": "code",
      "execution_count": 5,
      "metadata": {
        "id": "u4xHOpm8rHkQ"
      },
      "outputs": [],
      "source": [
        "import pandas as pd\n",
        "import numpy as np\n",
        "import matplotlib.pyplot as plt\n",
        "import seaborn as sb"
      ]
    },
    {
      "cell_type": "markdown",
      "source": [
        "Importing Dataset:"
      ],
      "metadata": {
        "id": "HbwtBfizNZZ6"
      }
    },
    {
      "cell_type": "code",
      "source": [
        "df = pd.read_csv('emotion_dataset_2.csv')"
      ],
      "metadata": {
        "id": "TDfI0JZD76hM"
      },
      "execution_count": 6,
      "outputs": []
    },
    {
      "cell_type": "code",
      "source": [
        "df['Emotion'].value_counts()"
      ],
      "metadata": {
        "colab": {
          "base_uri": "https://localhost:8080/"
        },
        "id": "VFDK0LgF8-8q",
        "outputId": "77aa480e-7968-4de2-ab48-7d994b85572c"
      },
      "execution_count": 7,
      "outputs": [
        {
          "output_type": "execute_result",
          "data": {
            "text/plain": [
              "joy         11045\n",
              "sadness      6722\n",
              "fear         5410\n",
              "anger        4297\n",
              "surprise     4062\n",
              "neutral      2254\n",
              "disgust       856\n",
              "shame         146\n",
              "Name: Emotion, dtype: int64"
            ]
          },
          "metadata": {},
          "execution_count": 7
        }
      ]
    },
    {
      "cell_type": "markdown",
      "source": [
        "Emotion Analysis:"
      ],
      "metadata": {
        "id": "AQuzlsOaNN6R"
      }
    },
    {
      "cell_type": "code",
      "source": [
        "from textblob import TextBlob\n",
        "def get_sentiment(text):\n",
        "  blob = TextBlob(text)\n",
        "  sentiment = blob.sentiment.polarity\n",
        "  if sentiment>0:\n",
        "    result = \"positive\" \n",
        "  elif sentiment<0:\n",
        "    result = \"negative\" \n",
        "  else:\n",
        "    result = \"neutral\"   \n",
        "  return result  "
      ],
      "metadata": {
        "id": "jFOnkeEkNQ2M"
      },
      "execution_count": 11,
      "outputs": []
    },
    {
      "cell_type": "code",
      "source": [
        "get_sentiment(\"I would love to play football\")"
      ],
      "metadata": {
        "id": "-w27VlGmO1r2",
        "colab": {
          "base_uri": "https://localhost:8080/",
          "height": 36
        },
        "outputId": "4dbe47fe-0059-4aa1-97c2-8ff9ab2af5a8"
      },
      "execution_count": 13,
      "outputs": [
        {
          "output_type": "execute_result",
          "data": {
            "application/vnd.google.colaboratory.intrinsic+json": {
              "type": "string"
            },
            "text/plain": [
              "'positive'"
            ]
          },
          "metadata": {},
          "execution_count": 13
        }
      ]
    },
    {
      "cell_type": "code",
      "source": [
        "df['Sentiment'] = df['Text'].apply(get_sentiment)\n",
        "df.head()\n",
        "df.groupby(['Emotion', 'Sentiment']).size()"
      ],
      "metadata": {
        "colab": {
          "base_uri": "https://localhost:8080/"
        },
        "id": "Ci458fIqEs8M",
        "outputId": "f40c2e04-3d2d-4489-99ba-623ceb53f293"
      },
      "execution_count": 15,
      "outputs": [
        {
          "output_type": "execute_result",
          "data": {
            "text/plain": [
              "Emotion   Sentiment\n",
              "anger     negative     1787\n",
              "          neutral      1386\n",
              "          positive     1124\n",
              "disgust   negative      325\n",
              "          neutral       249\n",
              "          positive      282\n",
              "fear      negative     1534\n",
              "          neutral      1843\n",
              "          positive     2033\n",
              "joy       negative     1682\n",
              "          neutral      3648\n",
              "          positive     5715\n",
              "neutral   negative      178\n",
              "          neutral      1523\n",
              "          positive      553\n",
              "sadness   negative     2630\n",
              "          neutral      2127\n",
              "          positive     1965\n",
              "shame     negative       46\n",
              "          neutral        50\n",
              "          positive       50\n",
              "surprise  negative      623\n",
              "          neutral      1545\n",
              "          positive     1894\n",
              "dtype: int64"
            ]
          },
          "metadata": {},
          "execution_count": 15
        }
      ]
    }
  ]
}